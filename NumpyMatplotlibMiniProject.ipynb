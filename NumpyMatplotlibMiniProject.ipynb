{
  "nbformat": 4,
  "nbformat_minor": 0,
  "metadata": {
    "colab": {
      "provenance": [],
      "authorship_tag": "ABX9TyMq33b4UxS+P4PRAxSWZAiY",
      "include_colab_link": true
    },
    "kernelspec": {
      "name": "python3",
      "display_name": "Python 3"
    },
    "language_info": {
      "name": "python"
    }
  },
  "cells": [
    {
      "cell_type": "markdown",
      "metadata": {
        "id": "view-in-github",
        "colab_type": "text"
      },
      "source": [
        "<a href=\"https://colab.research.google.com/github/szperan21/BasicPythonMiniProject/blob/main/NumpyMatplotlibMiniProject.ipynb\" target=\"_parent\"><img src=\"https://colab.research.google.com/assets/colab-badge.svg\" alt=\"Open In Colab\"/></a>"
      ]
    },
    {
      "cell_type": "code",
      "execution_count": 1,
      "metadata": {
        "id": "KagYyr3k55Zs",
        "colab": {
          "base_uri": "https://localhost:8080/",
          "height": 350
        },
        "outputId": "bec9bc2e-dda5-4c96-e99e-d8f29bd568ea"
      },
      "outputs": [
        {
          "output_type": "error",
          "ename": "ModuleNotFoundError",
          "evalue": "No module named 'mpi4py'",
          "traceback": [
            "\u001b[0;31m---------------------------------------------------------------------------\u001b[0m",
            "\u001b[0;31mModuleNotFoundError\u001b[0m                       Traceback (most recent call last)",
            "\u001b[0;32m<ipython-input-1-fcbf84b7a499>\u001b[0m in \u001b[0;36m<cell line: 0>\u001b[0;34m()\u001b[0m\n\u001b[1;32m      3\u001b[0m \u001b[0;32mimport\u001b[0m \u001b[0mdatetime\u001b[0m\u001b[0;34m\u001b[0m\u001b[0;34m\u001b[0m\u001b[0m\n\u001b[1;32m      4\u001b[0m \u001b[0;32mimport\u001b[0m \u001b[0mmath\u001b[0m\u001b[0;34m\u001b[0m\u001b[0;34m\u001b[0m\u001b[0m\n\u001b[0;32m----> 5\u001b[0;31m \u001b[0;32mfrom\u001b[0m \u001b[0mmpi4py\u001b[0m \u001b[0;32mimport\u001b[0m \u001b[0mMPI\u001b[0m\u001b[0;34m\u001b[0m\u001b[0;34m\u001b[0m\u001b[0m\n\u001b[0m",
            "\u001b[0;31mModuleNotFoundError\u001b[0m: No module named 'mpi4py'",
            "",
            "\u001b[0;31m---------------------------------------------------------------------------\u001b[0;32m\nNOTE: If your import is failing due to a missing package, you can\nmanually install dependencies using either !pip or !apt.\n\nTo view examples of installing some common dependencies, click the\n\"Open Examples\" button below.\n\u001b[0;31m---------------------------------------------------------------------------\u001b[0m\n"
          ],
          "errorDetails": {
            "actions": [
              {
                "action": "open_url",
                "actionText": "Open Examples",
                "url": "/notebooks/snippets/importing_libraries.ipynb"
              }
            ]
          }
        }
      ],
      "source": [
        "import numpy as np\n",
        "import sys\n",
        "import datetime\n",
        "import math\n",
        "from mpi4py import MPI"
      ]
    },
    {
      "cell_type": "code",
      "source": [
        "def inside_circle(total_count):\n",
        "    x = np.random.uniform(size=total_count)\n",
        "    y = np.random.uniform(size=total_count)\n",
        "    radii = np.sqrt(x*x + y*y)\n",
        "    count = len(radii[np.where(radii<=1.0)])\n",
        "    return count\n"
      ],
      "metadata": {
        "id": "r5iat0O26ojt"
      },
      "execution_count": null,
      "outputs": []
    },
    {
      "cell_type": "code",
      "source": [
        "comm = MPI.COMM_WORLD\n",
        "cpus = comm.Get_size()\n",
        "rank = comm.Get_rank()\n",
        "\n",
        "for loopControl in range(2,10):\n",
        "  n_samples = 10**loopControl\n",
        "\n",
        "  if rank == 0:\n",
        "    start_time = datetime.datetime.now()\n",
        "    partitions = [ int(n_samples / cpus) ] * cpus\n",
        "    counts = [ int(0) ] * cpus\n",
        "  else:\n",
        "    partitions = None\n",
        "    counts = None\n",
        "\n",
        "  partition_item = comm.scatter(partitions, root=0)\n",
        "  count_item = inside_circle(partition_item)\n",
        "  counts = comm.gather(count_item, root=0)\n",
        "\n",
        "  if rank == 0:\n",
        "    my_pi = 4.0 * counts / n_samples\n",
        "    size_of_float = np.dtype(np.float64).itemsize\n",
        "    memory_required = 3 * n_samples * size_of_float / (1024**3)\n",
        "    end_time = datetime.datetime.now()\n",
        "    elapsed_time = (end_time - start_time).total_seconds()\n",
        "    relative_error = abs(math.pi-my_pi)/math.pi\n",
        "    print(\"N:\", n_samples, \" Pi:\", my_pi, \" Memory:\", memory_required, \"GiB\", \" Time:\", elapsed_time, \"s\", \"Relative Error:\", relative_error)\n"
      ],
      "metadata": {
        "colab": {
          "base_uri": "https://localhost:8080/"
        },
        "id": "LZw1LQJh6omV",
        "outputId": "c81b06d1-aef0-43df-f484-77a3a1e003cf"
      },
      "execution_count": null,
      "outputs": [
        {
          "output_type": "stream",
          "name": "stdout",
          "text": [
            "N: 100  Pi: 3.28  Memory: 2.2351741790771484e-06 GiB  Time: 0.000191 s Relative Error: 0.04405642668283338\n",
            "N: 1000  Pi: 3.084  Memory: 2.2351741790771484e-05 GiB  Time: 0.00053 s Relative Error: 0.018332311009189507\n",
            "N: 10000  Pi: 3.1528  Memory: 0.00022351741790771484 GiB  Time: 0.00077 s Relative Error: 0.003567409160255283\n",
            "N: 100000  Pi: 3.14136  Memory: 0.0022351741790771484 GiB  Time: 0.010877 s Relative Error: 7.405593768724863e-05\n",
            "N: 1000000  Pi: 3.140732  Memory: 0.022351741790771484 GiB  Time: 0.049548 s Relative Error: 0.00027395454621076306\n",
            "N: 10000000  Pi: 3.141362  Memory: 0.22351741790771484 GiB  Time: 0.431393 s Relative Error: 7.341931791493343e-05\n",
            "N: 100000000  Pi: 3.14162028  Memory: 2.2351741790771484 GiB  Time: 5.213201 s Relative Error: 8.793759488668921e-06\n"
          ]
        }
      ]
    },
    {
      "cell_type": "code",
      "source": [
        "\n"
      ],
      "metadata": {
        "id": "gBupDAST6oom"
      },
      "execution_count": null,
      "outputs": []
    },
    {
      "cell_type": "code",
      "source": [],
      "metadata": {
        "id": "ZUy4PM4O6orE"
      },
      "execution_count": null,
      "outputs": []
    }
  ]
}