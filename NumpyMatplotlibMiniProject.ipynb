{
  "nbformat": 4,
  "nbformat_minor": 0,
  "metadata": {
    "colab": {
      "provenance": [],
      "authorship_tag": "ABX9TyPNB9EPuNrWafRt6epEXv0u",
      "include_colab_link": true
    },
    "kernelspec": {
      "name": "python3",
      "display_name": "Python 3"
    },
    "language_info": {
      "name": "python"
    }
  },
  "cells": [
    {
      "cell_type": "markdown",
      "metadata": {
        "id": "view-in-github",
        "colab_type": "text"
      },
      "source": [
        "<a href=\"https://colab.research.google.com/github/szperan21/BasicPythonMiniProject/blob/main/NumpyMatplotlibMiniProject.ipynb\" target=\"_parent\"><img src=\"https://colab.research.google.com/assets/colab-badge.svg\" alt=\"Open In Colab\"/></a>"
      ]
    },
    {
      "cell_type": "code",
      "source": [
        "!pip install mpi4py"
      ],
      "metadata": {
        "colab": {
          "base_uri": "https://localhost:8080/"
        },
        "id": "VoENH-JxqVLP",
        "outputId": "f2b7bd7e-98c9-465a-a432-6d855323d510"
      },
      "execution_count": 5,
      "outputs": [
        {
          "output_type": "stream",
          "name": "stdout",
          "text": [
            "Collecting mpi4py\n",
            "  Using cached mpi4py-4.0.3.tar.gz (466 kB)\n",
            "  Installing build dependencies ... \u001b[?25l\u001b[?25hdone\n",
            "  Getting requirements to build wheel ... \u001b[?25l\u001b[?25hdone\n",
            "  Installing backend dependencies ... \u001b[?25l\u001b[?25hdone\n",
            "  Preparing metadata (pyproject.toml) ... \u001b[?25l\u001b[?25hdone\n",
            "Building wheels for collected packages: mpi4py\n",
            "  Building wheel for mpi4py (pyproject.toml) ... \u001b[?25l\u001b[?25hdone\n",
            "  Created wheel for mpi4py: filename=mpi4py-4.0.3-cp311-cp311-linux_x86_64.whl size=4458266 sha256=e2c116a93ff374292d2c8b1d9357bcbbfe9f3f2db2e202b29d2f2472bd1eb294\n",
            "  Stored in directory: /root/.cache/pip/wheels/5c/56/17/bf6ba37aa971a191a8b9eaa188bf5ec855b8911c1c56fb1f84\n",
            "Successfully built mpi4py\n",
            "Installing collected packages: mpi4py\n",
            "Successfully installed mpi4py-4.0.3\n"
          ]
        }
      ]
    },
    {
      "cell_type": "code",
      "execution_count": 6,
      "metadata": {
        "id": "KagYyr3k55Zs"
      },
      "outputs": [],
      "source": [
        "import numpy as np\n",
        "import sys\n",
        "import datetime\n",
        "import math\n",
        "from mpi4py import MPI"
      ]
    },
    {
      "cell_type": "code",
      "source": [
        "def inside_circle(total_count):\n",
        "    x = np.random.uniform(size=total_count)\n",
        "    y = np.random.uniform(size=total_count)\n",
        "    radii = np.sqrt(x*x + y*y)\n",
        "    count = len(radii[np.where(radii<=1.0)])\n",
        "    return count\n"
      ],
      "metadata": {
        "id": "r5iat0O26ojt"
      },
      "execution_count": 7,
      "outputs": []
    },
    {
      "cell_type": "code",
      "source": [
        "#initialize vars for MPI\n",
        "comm = MPI.COMM_WORLD\n",
        "cpus = comm.Get_size()\n",
        "rank = comm.Get_rank()\n",
        "\n",
        "PiSimData = np.array([])\n",
        "\n",
        "for loopControl in range(2,10):\n",
        "  n_samples = 10**loopControl\n",
        "\n",
        "  if rank == 0:\n",
        "    start_time = datetime.datetime.now()\n",
        "    partitions = [ int(n_samples / cpus) ] * cpus\n",
        "    counts = [ int(0) ] * cpus\n",
        "  else:\n",
        "    partitions = None\n",
        "    counts = None\n",
        "\n",
        "  partition_item = comm.scatter(partitions, root=0)\n",
        "  count_item = inside_circle(partition_item)\n",
        "  counts = comm.gather(count_item, root=0)\n",
        "\n",
        "  if rank == 0:\n",
        "    #Record results of the simulation\n",
        "    my_pi = 4.0 * sum(counts) / sum(partitions)\n",
        "    size_of_float = np.dtype(np.float64).itemsize\n",
        "    memory_required = 3 * n_samples * size_of_float / (1024**3)\n",
        "    end_time = datetime.datetime.now()\n",
        "    elapsed_time = (end_time - start_time).total_seconds()\n",
        "    relative_error = abs(math.pi-my_pi)/math.pi\n",
        "\n",
        "    #append to PiSimData\n",
        "    PiSimData = PiSimData.append(my_pi)\n",
        "    PiSimData = PiSimData.append(size_of_float)\n",
        "    PiSimData = PiSimData.append(memory_required)\n",
        "    PiSimData = PiSimData.append(end_time)\n",
        "    PiSimData = PiSimData.append(elapsed_time)\n",
        "    PiSimData = PiSimData.append(relative_error)\n",
        "\n",
        "    print(\"N:\", n_samples, \" Pi:\", my_pi, \" Memory:\", memory_required, \"GiB\", \" Time:\", elapsed_time, \"s\", \"Relative Error:\", relative_error)\n",
        "\n",
        "\n",
        "#Write out the results to a CSV\n",
        "np.savetxt('PiSimData', PiSimData, delimiter=',')\n"
      ],
      "metadata": {
        "colab": {
          "base_uri": "https://localhost:8080/"
        },
        "id": "LZw1LQJh6omV",
        "outputId": "9e1fc971-0889-44fc-a2dc-c9b11ce350bb"
      },
      "execution_count": null,
      "outputs": [
        {
          "output_type": "stream",
          "name": "stdout",
          "text": [
            "N: 100  Pi: 2.84  Memory: 2.2351741790771484e-06 GiB  Time: 0.000416 s Relative Error: 0.09599992323803451\n",
            "N: 1000  Pi: 3.156  Memory: 2.2351741790771484e-05 GiB  Time: 0.000693 s Relative Error: 0.004586000796043443\n",
            "N: 10000  Pi: 3.1204  Memory: 0.00022351741790771484 GiB  Time: 0.00061 s Relative Error: 0.00674583115209953\n",
            "N: 100000  Pi: 3.14212  Memory: 0.0022351741790771484 GiB  Time: 0.016695 s Relative Error: 0.00016785957581232083\n",
            "N: 1000000  Pi: 3.14122  Memory: 0.022351741790771484 GiB  Time: 0.069644 s Relative Error: 0.00011861932175298856\n",
            "N: 10000000  Pi: 3.1421944  Memory: 0.22351741790771484 GiB  Time: 0.48958 s Relative Error: 0.00019154183134451042\n",
            "N: 100000000  Pi: 3.14164144  Memory: 2.2351741790771484 GiB  Time: 5.877195 s Relative Error: 1.5529196680235967e-05\n"
          ]
        }
      ]
    },
    {
      "cell_type": "code",
      "source": [
        "\n"
      ],
      "metadata": {
        "id": "gBupDAST6oom"
      },
      "execution_count": null,
      "outputs": []
    },
    {
      "cell_type": "code",
      "source": [],
      "metadata": {
        "id": "ZUy4PM4O6orE"
      },
      "execution_count": null,
      "outputs": []
    }
  ]
}